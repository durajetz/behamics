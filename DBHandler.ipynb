{
 "cells": [
  {
   "cell_type": "code",
   "execution_count": 1,
   "metadata": {},
   "outputs": [],
   "source": [
    "import pymongo\n",
    "from pymongo import MongoClient\n",
    "\n",
    "class MongoDB:\n",
    "    url = 'mongodb://127.0.0.1:27017'\n",
    "    db_name = 'db_test'\n",
    "    coll_name = 'checkout'\n",
    "    \n",
    "    @classmethod\n",
    "    def getConnection(cls):\n",
    "        try:\n",
    "            conn = MongoClient(cls.url)\n",
    "            return conn\n",
    "        except pymongo.errors.ConnectionFailure as e:\n",
    "            print(\"Could not connect to MongoDB: %s\") % e\n",
    "        \n",
    "            \n",
    "    @classmethod\n",
    "    def getCollection(cls):\n",
    "        connection = cls.getConnection()\n",
    "        db = connection[cls.db_name]\n",
    "        collection = db[cls.coll_name]\n",
    "        return collection"
   ]
  }
 ],
 "metadata": {
  "kernelspec": {
   "display_name": "Python 3",
   "language": "python",
   "name": "python3"
  },
  "language_info": {
   "codemirror_mode": {
    "name": "ipython",
    "version": 3
   },
   "file_extension": ".py",
   "mimetype": "text/x-python",
   "name": "python",
   "nbconvert_exporter": "python",
   "pygments_lexer": "ipython3",
   "version": "3.8.5"
  }
 },
 "nbformat": 4,
 "nbformat_minor": 4
}
